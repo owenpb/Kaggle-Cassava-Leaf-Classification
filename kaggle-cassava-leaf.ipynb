{
 "cells": [
  {
   "cell_type": "markdown",
   "id": "01a55549",
   "metadata": {},
   "source": [
    "# [Kaggle competition: Cassava Leaf Disease Classification](https://www.kaggle.com/c/cassava-leaf-disease-classification/)\n",
    "#### *Identifing the type of disease present on a Cassava Leaf image*\n",
    "\n",
    "In this competition, we explore a dataset consisting of 21,367 labeled photographs of Cassava leaves collected during a regular survey in Uganda. Images were crowdsourced from farmers and annotated by experts at the National Crops Resources Research Institute (NaCRRI) in collaboration with the AI lab at Makerere University, Kampala.\n",
    "\n",
    "Our task is to classify each image into one of $5$ categories: one indicating a **healthy** leaf, and the remaining four categories indicating different diseases. These are **Cassava Bacteria Blight** (CBB), **Cassava Brown Streak Disease** (CBSD), **Cassava Green Mottle** (CGM), and **Cassava Mosaic Disease** (CMD). \n",
    "\n",
    "This Notebook contains:\n",
    "\n",
    "1. Exploratory Data Analysis (EDA) of the Cassava leaf image dataset, and demonstration of image augmentation techniques using the Albumentations library.\n",
    "\n",
    "2. Training and finetuning a ResNet-152 model from torchvision (PyTorch) with GPU P100 accelerator. \n",
    "\n",
    "3. Ensembling out-of-fold (OOF) predictions with test time augmentations (TTA). \n",
    "\n",
    "4. Preparing our final submission for this competition."
   ]
  },
  {
   "cell_type": "markdown",
   "id": "ddae9d73",
   "metadata": {},
   "source": [
    "## Import libraries:\n",
    "\n",
    "First we will import all necessary libraries and set CUDA as our device (since we will be training our model with GPU)."
   ]
  },
  {
   "cell_type": "code",
   "execution_count": 5,
   "id": "b71161a2",
   "metadata": {},
   "outputs": [],
   "source": [
    "import torch\n",
    "import torch.nn as nn\n",
    "import torchvision\n",
    "from torchvision import transforms\n",
    "from torch.utils.data import DataLoader\n",
    "from torch.utils.data import Dataset\n",
    "from torchinfo import summary\n",
    "\n",
    "from torchvision.models import resnet152, ResNet152_Weights\n",
    "\n",
    "import albumentations \n",
    "from albumentations.pytorch.transforms import ToTensorV2\n",
    "\n",
    "import matplotlib.pyplot as plt\n",
    "import numpy as np\n",
    "import pandas as pd\n",
    "import seaborn as sns\n",
    "from sklearn.model_selection import train_test_split, StratifiedKFold\n",
    "\n",
    "import os\n",
    "import copy\n",
    "import glob\n",
    "import json\n",
    "import random\n",
    "import pathlib\n",
    "from PIL import Image\n",
    "import pickle \n",
    "\n",
    "\n",
    "DEVICE = \"cuda\" if torch.cuda.is_available() else \"cpu\"\n",
    "# print(f'Device: {DEVICE}')"
   ]
  },
  {
   "cell_type": "code",
   "execution_count": null,
   "id": "f2563410",
   "metadata": {},
   "outputs": [],
   "source": []
  }
 ],
 "metadata": {
  "kernelspec": {
   "display_name": "Python 3 (ipykernel)",
   "language": "python",
   "name": "python3"
  },
  "language_info": {
   "codemirror_mode": {
    "name": "ipython",
    "version": 3
   },
   "file_extension": ".py",
   "mimetype": "text/x-python",
   "name": "python",
   "nbconvert_exporter": "python",
   "pygments_lexer": "ipython3",
   "version": "3.10.11"
  }
 },
 "nbformat": 4,
 "nbformat_minor": 5
}
